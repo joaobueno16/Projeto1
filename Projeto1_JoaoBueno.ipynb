{
 "cells": [
  {
   "cell_type": "markdown",
   "metadata": {},
   "source": [
    "# Projeto 1 - Ciência dos Dados"
   ]
  },
  {
   "cell_type": "markdown",
   "metadata": {},
   "source": [
    "Nome: João Luiz Leão Bueno"
   ]
  },
  {
   "cell_type": "markdown",
   "metadata": {},
   "source": [
    "## Pergunta (s) a ser respondida"
   ]
  },
  {
   "cell_type": "markdown",
   "metadata": {},
   "source": [
    "Qual foi o impacto econômico sofrido pela uniao europeia após todas as Discussões sobre o brexit? "
   ]
  },
  {
   "cell_type": "markdown",
   "metadata": {},
   "source": [
    "## Explicação da hipótese e mecanismo"
   ]
  },
  {
   "cell_type": "markdown",
   "metadata": {},
   "source": [
    "A união europeia é uma organizacao econômica e política que engloba 28 paises.A saida do Reino Unido da Uniao Europeia foi positiva economicamente falando, pois as relacões providenciadas por uma organização econômica não são sempre beneficiários, devido ao fato de que muitas vezes os países relacionados à uma organização são obrigados a se relacionar economicamente com outros países da mesma organização, mesmo que tal relação nao seja beneficiáia.  \n",
    "\n",
    "O mecanismo de estudo será analisar a evolução da inflação, dos investimentos e o PIB dos paises pertencentes à União Europeia e os países europeus que não estão na União Europeia entre os anos de 2016 ate 2017."
   ]
  },
  {
   "cell_type": "markdown",
   "metadata": {},
   "source": [
    "## Bases de dados usadas"
   ]
  },
  {
   "cell_type": "markdown",
   "metadata": {},
   "source": [
    "https://data.worldbank.org/indicator/NY.GDP.DEFL.KD.ZG - inflacao\n",
    "https://data.worldbank.org/indicator/NE.GDI.TOTL.ZS - investimentos\n",
    "https://data.worldbank.org/indicator/NY.GDP.PCAP.KD- Gdp"
   ]
  },
  {
   "cell_type": "markdown",
   "metadata": {},
   "source": [
    "## Análise de dados"
   ]
  },
  {
   "cell_type": "markdown",
   "metadata": {},
   "source": [
    "Insira abaixo uma análise de dados tratada para ter maior clareza. \n",
    "\n",
    "Lembre-se de que, além deste arquivo principal, você precisa entregar um ou mais *notebooks* mais brutos com todas as tentativas que fez e que não deram certo .\n",
    "\n",
    "**Não inclua dados ou gráficos sem motivação nem interpretação** - sempre que fizer uma análise, plot ou tablea, diga qual sua intenção. Logo após a apresentação diga qual conclusão específica ou interpretação você tira daquela análise"
   ]
  },
  {
   "cell_type": "code",
   "execution_count": 128,
   "metadata": {},
   "outputs": [],
   "source": [
    "%matplotlib inline\n",
    "import pandas as pd\n",
    "import matplotlib.pyplot as plt"
   ]
  },
  {
   "cell_type": "code",
   "execution_count": 129,
   "metadata": {},
   "outputs": [],
   "source": [
    "inflacao= pd.read_excel('inflation_annual_percent.xlsx')\n",
    "investimentos= pd.read_excel('investments_percent_of_gdp.xlsx')\n",
    "GDP= pd.read_excel('gdppercapita_us_inflation_adjusted.xlsx')"
   ]
  },
  {
   "cell_type": "code",
   "execution_count": 130,
   "metadata": {},
   "outputs": [],
   "source": [
    "inflacao=inflacao.set_index('country')\n",
    "investimentos=investimentos.set_index('country')\n",
    "GDP=GDP.set_index('country')"
   ]
  },
  {
   "cell_type": "code",
   "execution_count": 131,
   "metadata": {},
   "outputs": [],
   "source": [
    "Investimentos=investimentos.iloc[:,-2:]\n"
   ]
  },
  {
   "cell_type": "code",
   "execution_count": 132,
   "metadata": {},
   "outputs": [],
   "source": [
    "Inflacao=inflacao.iloc[:,-2:]"
   ]
  },
  {
   "cell_type": "code",
   "execution_count": 133,
   "metadata": {},
   "outputs": [],
   "source": [
    "Gdp=GDP.iloc[:,-2:]"
   ]
  },
  {
   "cell_type": "code",
   "execution_count": 134,
   "metadata": {},
   "outputs": [
    {
     "name": "stderr",
     "output_type": "stream",
     "text": [
      "/anaconda3/lib/python3.7/site-packages/ipykernel_launcher.py:1: SettingWithCopyWarning: \n",
      "A value is trying to be set on a copy of a slice from a DataFrame.\n",
      "Try using .loc[row_indexer,col_indexer] = value instead\n",
      "\n",
      "See the caveats in the documentation: http://pandas.pydata.org/pandas-docs/stable/indexing.html#indexing-view-versus-copy\n",
      "  \"\"\"Entry point for launching an IPython kernel.\n"
     ]
    }
   ],
   "source": [
    "Inflacao['UE']='0'"
   ]
  },
  {
   "cell_type": "code",
   "execution_count": 135,
   "metadata": {},
   "outputs": [
    {
     "name": "stderr",
     "output_type": "stream",
     "text": [
      "/anaconda3/lib/python3.7/site-packages/pandas/core/indexing.py:543: SettingWithCopyWarning: \n",
      "A value is trying to be set on a copy of a slice from a DataFrame.\n",
      "Try using .loc[row_indexer,col_indexer] = value instead\n",
      "\n",
      "See the caveats in the documentation: http://pandas.pydata.org/pandas-docs/stable/indexing.html#indexing-view-versus-copy\n",
      "  self.obj[item] = s\n"
     ]
    }
   ],
   "source": [
    "Inflacao.loc[('Austria','Belgium','Bulgaria','Croatia','Cyprus','Czech Republic','Denmark','Estonia','Finland','France','Germany','Greece','Hungary','Ireland','Italy','Latvia','Lithuania','Luxembourg','Malta','Netherlands','Poland','Portugal','Romania','Slovak Republic','Slovenia','Spain','Sweden','United Kingdom') ,'UE']='1' "
   ]
  },
  {
   "cell_type": "code",
   "execution_count": 136,
   "metadata": {},
   "outputs": [],
   "source": [
    "Inflacao.loc[('Albania','Andorra','Belarus','Bosnia and Herzegovina','Iceland','Liechtenstein','Moldova','Monaco','Montenegro','Norway','Russia','San Marino','Serbia','Switzerland','Turkey'),'UE']='2'  "
   ]
  },
  {
   "cell_type": "code",
   "execution_count": 137,
   "metadata": {},
   "outputs": [],
   "source": [
    "Inf_UE=Inflacao.loc[Inflacao.UE=='1']\n",
    "Inf_N_UE=Inflacao.loc[Inflacao.UE=='2']\n"
   ]
  },
  {
   "cell_type": "code",
   "execution_count": 138,
   "metadata": {},
   "outputs": [],
   "source": [
    "Inf_dados_UE=Inf_UE.loc[:,[2016,2017]]\n",
    "Inf_dados_N_UE=Inf_N_UE.loc[:,[2016,2017]]"
   ]
  },
  {
   "cell_type": "code",
   "execution_count": 139,
   "metadata": {},
   "outputs": [],
   "source": [
    "Inf_media_UE = Inf_dados_UE.mean()\n",
    "Inf_Mediana_UE=Inf_dados_UE.median()\n",
    "Inf_media_N_UE = Inf_dados_N_UE.mean()\n",
    "Inf_Mediana_N_UE=Inf_dados_N_UE.median()"
   ]
  },
  {
   "cell_type": "code",
   "execution_count": 140,
   "metadata": {},
   "outputs": [
    {
     "data": {
      "text/plain": [
       "<matplotlib.axes._subplots.AxesSubplot at 0x1202af2b0>"
      ]
     },
     "execution_count": 140,
     "metadata": {},
     "output_type": "execute_result"
    },
    {
     "data": {
      "image/png": "[encoded data removed]",
      "text/plain": [
       "<Figure size 576x576 with 2 Axes>"
      ]
     },
     "metadata": {
      "needs_background": "light"
     },
     "output_type": "display_data"
    }
   ],
   "source": [
    "fig1 = plt.figure(figsize=(8,8))\n",
    "fig1.add_subplot(1, 2, 1)\n",
    "Inf_media_UE.plot(kind=\"bar\",title=\" Inflação (Média x Anos) UE\")\n",
    "\n",
    "\n",
    "fig1.add_subplot(1, 2, 2)\n",
    "Inf_media_N_UE.plot(kind=\"bar\",title=\"Inflação (Média x Anos) nao UE\")\n"
   ]
  },
  {
   "cell_type": "code",
   "execution_count": 141,
   "metadata": {},
   "outputs": [
    {
     "name": "stdout",
     "output_type": "stream",
     "text": [
      "Acima temos 2 graficos que comparam as inflações médias de 2016 e 2017 entre os países europeus pertencentes a União Europeia países e os europeus sem afiliação com a União Europeia\n",
      "\n",
      "A minha Intenção com essa análise foi observar e comparar o crescimento médio da inflação entre os países pertencentes e não pertencentes a Organização\n",
      "\n",
      "O resultado analisado foi o seguinte:\n",
      "Os Países da União Europeia apresentaram um crescimento de 60.64117568060164 % , passando de 0.7326785714285716 % para 1.8615357142857143 %\n",
      "\n",
      "Os Países Europeus que não fazem parte da União Europeia apresentaram um crescimento de 22.413124919261087 % , passando de 2.7719999999999994 % para 3.5727692307692305 %\n",
      "\n",
      "portanto pode-se concluir que os paises pertencentes a União Europeia apresentaram em média um crescimento maior que os demais países \n"
     ]
    }
   ],
   "source": [
    "print('Acima temos 2 graficos que comparam as inflações médias de 2016 e 2017 entre os países europeus pertencentes a União Europeia países e os europeus sem afiliação com a União Europeia') \n",
    "print()\n",
    "print('A minha Intenção com essa análise foi observar e comparar o crescimento médio da inflação entre os países pertencentes e não pertencentes a Organização')\n",
    "print()      \n",
    "print('O resultado analisado foi o seguinte:')\n",
    "print('Os Países da União Europeia apresentaram um crescimento de',((Inf_media_UE[2016]/Inf_media_UE[2017])-1)*-1*100,'%',', passando de',Inf_media_UE[2016],'% para',Inf_media_UE[2017],'%' )\n",
    "print()\n",
    "print('Os Países Europeus que não fazem parte da União Europeia apresentaram um crescimento de',((Inf_media_N_UE[2016]/Inf_media_N_UE[2017])-1)*-1*100,'%',', passando de',Inf_media_N_UE[2016],'% para',Inf_media_N_UE[2017],'%' )\n",
    "print()\n",
    "print('portanto pode-se concluir que os paises pertencentes a União Europeia apresentaram em média um crescimento maior que os demais países ' )"
   ]
  },
  {
   "cell_type": "code",
   "execution_count": 142,
   "metadata": {},
   "outputs": [
    {
     "data": {
      "text/plain": [
       "<matplotlib.axes._subplots.AxesSubplot at 0x12042af60>"
      ]
     },
     "execution_count": 142,
     "metadata": {},
     "output_type": "execute_result"
    },
    {
     "data": {
      "image/png": "[encoded data removed]",
      "text/plain": [
       "<Figure size 576x576 with 2 Axes>"
      ]
     },
     "metadata": {
      "needs_background": "light"
     },
     "output_type": "display_data"
    }
   ],
   "source": [
    "fig2 = plt.figure(figsize=(8,8))\n",
    "fig2.add_subplot(1, 2, 1)\n",
    "Inf_Mediana_UE.plot(kind=\"bar\",title=\"Inflação (Mediana x Anos) UE\")\n",
    "\n",
    "\n",
    "fig2.add_subplot(1, 2, 2)\n",
    "Inf_Mediana_N_UE.plot(kind=\"bar\",title=\"Inflação (Mediana X Anos) nao UE\")\n",
    "\n"
   ]
  },
  {
   "cell_type": "code",
   "execution_count": 143,
   "metadata": {},
   "outputs": [
    {
     "name": "stdout",
     "output_type": "stream",
     "text": [
      "Acima temos 2 graficos que comparam as inflações Medianas de 2016 e 2017 entre os países europeus pertencentes a União Europeia países e os europeus sem afiliação com a União Europeia\n",
      "\n",
      "A minha Intenção com essa análise foi observar e comparar o crescimento da inflação mediana entre os países pertencentes e não pertencentes a Organização\n",
      "\n",
      "O resultado analisado foi o seguinte:\n",
      "Os Países da União Europeia apresentaram um crescimento de 43.741935483870975 % , passando de 0.872 % para 1.55 %\n",
      "\n",
      "Os Países Europeus que não fazem parte da União Europeia apresentaram um crescimento de 22.426470588235304 % , passando de 2.11 % para 2.72 %\n",
      "\n",
      "portanto pode-se concluir que os paises pertencentes a União Europeia apresentaram em média um crescimento da inflação mediana maior que os demais países europeus \n"
     ]
    }
   ],
   "source": [
    "print('Acima temos 2 graficos que comparam as inflações Medianas de 2016 e 2017 entre os países europeus pertencentes a União Europeia países e os europeus sem afiliação com a União Europeia') \n",
    "print()\n",
    "print('A minha Intenção com essa análise foi observar e comparar o crescimento da inflação mediana entre os países pertencentes e não pertencentes a Organização')\n",
    "print()      \n",
    "print('O resultado analisado foi o seguinte:')\n",
    "print('Os Países da União Europeia apresentaram um crescimento de',((Inf_Mediana_UE[2016]/Inf_Mediana_UE[2017])-1)*-1*100,'%',', passando de',Inf_Mediana_UE[2016],'% para',Inf_Mediana_UE[2017],'%' )\n",
    "print()\n",
    "print('Os Países Europeus que não fazem parte da União Europeia apresentaram um crescimento de',((Inf_Mediana_N_UE[2016]/Inf_Mediana_N_UE[2017])-1)*-1*100,'%',', passando de',Inf_Mediana_N_UE[2016],'% para',Inf_Mediana_N_UE[2017],'%' )\n",
    "print()\n",
    "print('portanto pode-se concluir que os paises pertencentes a União Europeia apresentaram em média um crescimento da inflação mediana maior que os demais países europeus ' )"
   ]
  },
  {
   "cell_type": "code",
   "execution_count": 144,
   "metadata": {},
   "outputs": [
    {
     "data": {
      "text/plain": [
       "0.678"
      ]
     },
     "execution_count": 144,
     "metadata": {},
     "output_type": "execute_result"
    }
   ],
   "source": [
    "Inf_Mediana_UE[2017]-Inf_Mediana_UE[2016]"
   ]
  },
  {
   "cell_type": "code",
   "execution_count": 145,
   "metadata": {},
   "outputs": [
    {
     "data": {
      "text/plain": [
       "43.741935483870975"
      ]
     },
     "execution_count": 145,
     "metadata": {},
     "output_type": "execute_result"
    }
   ],
   "source": [
    "((Inf_Mediana_UE[2016]/Inf_Mediana_UE[2017])-1)*-1*100"
   ]
  },
  {
   "cell_type": "code",
   "execution_count": 146,
   "metadata": {},
   "outputs": [
    {
     "data": {
      "text/plain": [
       "0.6100000000000003"
      ]
     },
     "execution_count": 146,
     "metadata": {},
     "output_type": "execute_result"
    }
   ],
   "source": [
    "Inf_Mediana_N_UE[2017]-Inf_Mediana_N_UE[2016]"
   ]
  },
  {
   "cell_type": "code",
   "execution_count": 147,
   "metadata": {},
   "outputs": [
    {
     "data": {
      "text/plain": [
       "22.426470588235304"
      ]
     },
     "execution_count": 147,
     "metadata": {},
     "output_type": "execute_result"
    }
   ],
   "source": [
    "((Inf_Mediana_N_UE[2016]/Inf_Mediana_N_UE[2017])-1)*-1*100"
   ]
  },
  {
   "cell_type": "code",
   "execution_count": 148,
   "metadata": {},
   "outputs": [
    {
     "data": {
      "image/png": "[encoded data removed]",
      "text/plain": [
       "<Figure size 1152x576 with 2 Axes>"
      ]
     },
     "metadata": {
      "needs_background": "light"
     },
     "output_type": "display_data"
    }
   ],
   "source": [
    "fig3 = plt.figure(figsize=(16,8))\n",
    "fig3.add_subplot(1, 2, 1)\n",
    "Inf_UE[2016].plot.hist(bins=10,title='Histograma inflacao UE - 2016')\n",
    "plt.xlabel=('frequencia')\n",
    "plt.ylabel=('% de inflação ')\n",
    "\n",
    "\n",
    "\n",
    "fig3.add_subplot(1, 2, 2)\n",
    "Inf_UE[2017].plot.hist(bins=10,title='Histograma inflacao UE - 2017')\n",
    "plt.xlabel=('frequencia')\n",
    "plt.ylabel=('% de inflação ')\n"
   ]
  },
  {
   "cell_type": "markdown",
   "metadata": {},
   "source": [
    "Acima temos 2 Histogramas que analisam a frequência dos valores da inflação dos países da União Europeia nos anos de 2016 e 2017\n",
    "A intenção dessa comparação foi verificar o comportamento dos histogramas nos 2 anos.\n",
    "O resultado analisado foi o seguinte:\n",
    "O histograma de 2016 apresenta um comportamento de simetria para a esquerda, pois a mediana é maior que a media: 0,872 de mediana > 0,732 de media\n",
    "Enquanto o histograma de 2017 apresentou um comportamento de simetria para a direita, pois a mediana é menor que a media:1,55 de mediana < 1,86 de média\n",
    "\n",
    "A conclusão dessa analise é que houve um crescimento significativo da inflação nos paises da União Europeia durante estes 2 anos"
   ]
  },
  {
   "cell_type": "code",
   "execution_count": 149,
   "metadata": {},
   "outputs": [
    {
     "data": {
      "image/png": "[encoded data removed]",
      "text/plain": [
       "<Figure size 1152x576 with 2 Axes>"
      ]
     },
     "metadata": {
      "needs_background": "light"
     },
     "output_type": "display_data"
    }
   ],
   "source": [
    "fig4 = plt.figure(figsize=(16,8))\n",
    "fig4.add_subplot(1, 2, 1)\n",
    "Inf_N_UE[2016].plot.hist(bins=10,title='Histograma inflacao nao UE - 2016')\n",
    "plt.xlabel=('frequencia')\n",
    "\n",
    "\n",
    "\n",
    "fig4.add_subplot(1, 2, 2)\n",
    "Inf_N_UE[2017].plot.hist(bins=10,title='Histograma inflacao nao UE - 2017')\n",
    "plt.xlabel=('frequencia')\n"
   ]
  },
  {
   "cell_type": "markdown",
   "metadata": {},
   "source": [
    "Acima temos 2 Histogramas que analisam a frequência dos valores da inflação dos países Europeus que nao pertencem a União Europeia nos anos de 2016 e 2017\n",
    "A intenção dessa comparação foi verificar o comportamento dos histogramas nos 2 anos.\n",
    "O resultado analisado foi o seguinte:\n",
    "O histograma de 2016 apresenta um comportamento de simetria para a direita, pois a mediana é menor que a media: 2,11 de mediana < 2,77 de media\n",
    "Enquanto o histograma de 2017 apresentou um comportamento de simetria para a direita, pois a mediana é menor que a media:2,72 de mediana < 3,57 de média\n",
    "\n",
    "A conclusão dessa analise é que houve um crescimento da inflação nos paises Europeus nao pefrtencentes a União Europeia, porem nao foi um crescimento tao significativo quanto os paises da União Europeia durante estes 2 anos"
   ]
  },
  {
   "cell_type": "code",
   "execution_count": 150,
   "metadata": {},
   "outputs": [
    {
     "name": "stderr",
     "output_type": "stream",
     "text": [
      "/anaconda3/lib/python3.7/site-packages/ipykernel_launcher.py:1: SettingWithCopyWarning: \n",
      "A value is trying to be set on a copy of a slice from a DataFrame.\n",
      "Try using .loc[row_indexer,col_indexer] = value instead\n",
      "\n",
      "See the caveats in the documentation: http://pandas.pydata.org/pandas-docs/stable/indexing.html#indexing-view-versus-copy\n",
      "  \"\"\"Entry point for launching an IPython kernel.\n"
     ]
    }
   ],
   "source": [
    "Investimentos['UE']='0'"
   ]
  },
  {
   "cell_type": "code",
   "execution_count": 151,
   "metadata": {},
   "outputs": [
    {
     "name": "stderr",
     "output_type": "stream",
     "text": [
      "/anaconda3/lib/python3.7/site-packages/pandas/core/indexing.py:543: SettingWithCopyWarning: \n",
      "A value is trying to be set on a copy of a slice from a DataFrame.\n",
      "Try using .loc[row_indexer,col_indexer] = value instead\n",
      "\n",
      "See the caveats in the documentation: http://pandas.pydata.org/pandas-docs/stable/indexing.html#indexing-view-versus-copy\n",
      "  self.obj[item] = s\n"
     ]
    }
   ],
   "source": [
    "Investimentos.loc[('Austria','Belgium','Bulgaria','Croatia','Cyprus','Czech Republic','Denmark','Estonia','Finland','France','Germany','Greece','Hungary','Ireland','Italy','Latvia','Lithuania','Luxembourg','Malta','Netherlands','Poland','Portugal','Romania','Slovak Republic','Slovenia','Spain','Sweden','United Kingdom') ,'UE']='1' "
   ]
  },
  {
   "cell_type": "code",
   "execution_count": 152,
   "metadata": {},
   "outputs": [],
   "source": [
    "Investimentos.loc[('Albania','Belarus','Bosnia and Herzegovina','Iceland','Moldova','Montenegro','Norway','Russia','Serbia','Switzerland','Turkey'),'UE']='2'  "
   ]
  },
  {
   "cell_type": "code",
   "execution_count": 153,
   "metadata": {},
   "outputs": [],
   "source": [
    "Inv_UE=Investimentos.loc[Investimentos.UE=='1']\n",
    "Inv_N_UE=Investimentos.loc[Inflacao.UE=='2']"
   ]
  },
  {
   "cell_type": "code",
   "execution_count": 154,
   "metadata": {},
   "outputs": [],
   "source": [
    "Inv_dados_UE=Inv_UE.loc[:,[2016,2017]]\n",
    "Inv_dados_N_UE=Inv_N_UE.loc[:,[2016,2017]]"
   ]
  },
  {
   "cell_type": "code",
   "execution_count": 155,
   "metadata": {},
   "outputs": [],
   "source": [
    "Inv_media_UE = Inv_dados_UE.mean()\n",
    "Inv_Mediana_UE=Inv_dados_UE.median()\n",
    "Inv_media_N_UE = Inv_dados_N_UE.mean()\n",
    "Inv_Mediana_N_UE=Inv_dados_N_UE.median()"
   ]
  },
  {
   "cell_type": "code",
   "execution_count": 156,
   "metadata": {},
   "outputs": [
    {
     "data": {
      "text/plain": [
       "<matplotlib.axes._subplots.AxesSubplot at 0x11eae9198>"
      ]
     },
     "execution_count": 156,
     "metadata": {},
     "output_type": "execute_result"
    },
    {
     "data": {
      "image/png": "[encoded data removed]",
      "text/plain": [
       "<Figure size 576x576 with 2 Axes>"
      ]
     },
     "metadata": {
      "needs_background": "light"
     },
     "output_type": "display_data"
    }
   ],
   "source": [
    "fig5 = plt.figure(figsize=(8,8))\n",
    "fig5.add_subplot(1, 2, 1)\n",
    "Inv_media_UE.plot(kind=\"bar\",title=\"Investimentos  UE (Média x Anos)\")\n",
    "\n",
    "fig5.add_subplot(1, 2, 2)\n",
    "Inv_media_N_UE.plot(kind=\"bar\",title=\"Investimentos nao UE (Média x Anos)\")\n",
    "\n"
   ]
  },
  {
   "cell_type": "code",
   "execution_count": 157,
   "metadata": {},
   "outputs": [
    {
     "name": "stdout",
     "output_type": "stream",
     "text": [
      "Acima temos 2 graficos que comparam os investimentos médios de 2016 e 2017 entre os países europeus pertencentes a União Europeia países e os europeus sem afiliação com a União Europeia\n",
      "\n",
      "A minha Intenção com essa análise foi observar e comparar o crescimento médio dos investimentos  entre os países pertencentes e não pertencentes a Organização\n",
      "\n",
      "O resultado analisado foi o seguinte:\n",
      "Os Países da União Europeia apresentaram um crescimento de 1.6041907441836756 % , passando de 20.72142857142858 % para 21.05925925925926 %\n",
      "\n",
      "Os Países Europeus que não fazem parte da União Europeia apresentaram um crescimento de 4.115076474872536 % , passando de 23.936363636363637 % para 24.963636363636365 %\n",
      "\n",
      "portanto pode-se concluir que os paises pertencentes a União Europeia apresentaram em média um crescimento maior que os demais países \n"
     ]
    }
   ],
   "source": [
    "print('Acima temos 2 graficos que comparam os investimentos médios de 2016 e 2017 entre os países europeus pertencentes a União Europeia países e os europeus sem afiliação com a União Europeia') \n",
    "print()\n",
    "print('A minha Intenção com essa análise foi observar e comparar o crescimento médio dos investimentos  entre os países pertencentes e não pertencentes a Organização')\n",
    "print()      \n",
    "print('O resultado analisado foi o seguinte:')\n",
    "print('Os Países da União Europeia apresentaram um crescimento de',((Inv_media_UE[2016]/Inv_media_UE[2017])-1)*-1*100,'%',', passando de',Inv_media_UE[2016],'% para',Inv_media_UE[2017],'%' )\n",
    "print()\n",
    "print('Os Países Europeus que não fazem parte da União Europeia apresentaram um crescimento de',((Inv_media_N_UE[2016]/Inv_media_N_UE[2017])-1)*-1*100,'%',', passando de',Inv_media_N_UE[2016],'% para',Inv_media_N_UE[2017],'%' )\n",
    "print()\n",
    "print('portanto pode-se concluir que os paises pertencentes a União Europeia apresentaram em média um crescimento maior que os demais países ' )"
   ]
  },
  {
   "cell_type": "code",
   "execution_count": 158,
   "metadata": {},
   "outputs": [
    {
     "data": {
      "text/plain": [
       "<matplotlib.axes._subplots.AxesSubplot at 0x11eb6c860>"
      ]
     },
     "execution_count": 158,
     "metadata": {},
     "output_type": "execute_result"
    },
    {
     "data": {
      "image/png": "[encoded data removed]",
      "text/plain": [
       "<Figure size 576x576 with 2 Axes>"
      ]
     },
     "metadata": {
      "needs_background": "light"
     },
     "output_type": "display_data"
    }
   ],
   "source": [
    "fig6 = plt.figure(figsize=(8,8))\n",
    "fig6.add_subplot(1, 2, 1)\n",
    "Inv_Mediana_UE.plot(kind=\"bar\",title=\"Investimentos  UE (Mediana x Anos)\")\n",
    "\n",
    "\n",
    "\n",
    "fig6.add_subplot(1, 2, 2)\n",
    "Inv_Mediana_N_UE.plot(kind=\"bar\",title=\"Investimentos nao UE (Mediana x Anos)\")\n",
    "\n",
    "\n"
   ]
  },
  {
   "cell_type": "code",
   "execution_count": 159,
   "metadata": {},
   "outputs": [
    {
     "name": "stdout",
     "output_type": "stream",
     "text": [
      "Acima temos 2 graficos que comparam os investimentos Medianos de 2016 e 2017 entre os países europeus pertencentes a União Europeia países e os europeus sem afiliação com a União Europeia\n",
      "\n",
      "A minha Intenção com essa análise foi observar e comparar o crescimento dos investimento mediano entre os países pertencentes e não pertencentes a Organização\n",
      "\n",
      "O resultado analisado foi o seguinte:\n",
      "Os Países da União Europeia apresentaram um crescimento de 4.047619047619055 % , passando de 20.15 % para 21.0 %\n",
      "\n",
      "Os Países Europeus que não fazem parte da União Europeia apresentaram um crescimento de 3.34728033472802 % , passando de 23.1 % para 23.9 %\n",
      "\n",
      "portanto pode-se concluir que os paises pertencentes a União Europeia apresentaram em média um crescimento do investimento mediano similar aos demais países europeus \n"
     ]
    }
   ],
   "source": [
    "print('Acima temos 2 graficos que comparam os investimentos Medianos de 2016 e 2017 entre os países europeus pertencentes a União Europeia países e os europeus sem afiliação com a União Europeia') \n",
    "print()\n",
    "print('A minha Intenção com essa análise foi observar e comparar o crescimento dos investimento mediano entre os países pertencentes e não pertencentes a Organização')\n",
    "print()      \n",
    "print('O resultado analisado foi o seguinte:')\n",
    "print('Os Países da União Europeia apresentaram um crescimento de',((Inv_Mediana_UE[2016]/Inv_Mediana_UE[2017])-1)*-1*100,'%',', passando de',Inv_Mediana_UE[2016],'% para',Inv_Mediana_UE[2017],'%' )\n",
    "print()\n",
    "print('Os Países Europeus que não fazem parte da União Europeia apresentaram um crescimento de',((Inv_Mediana_N_UE[2016]/Inv_Mediana_N_UE[2017])-1)*-1*100,'%',', passando de',Inv_Mediana_N_UE[2016],'% para',Inv_Mediana_N_UE[2017],'%' )\n",
    "print()\n",
    "print('portanto pode-se concluir que os paises pertencentes a União Europeia apresentaram em média um crescimento do investimento mediano similar aos demais países europeus ' )"
   ]
  },
  {
   "cell_type": "code",
   "execution_count": 160,
   "metadata": {},
   "outputs": [
    {
     "data": {
      "image/png": "[encoded data removed]",
      "text/plain": [
       "<Figure size 1152x576 with 2 Axes>"
      ]
     },
     "metadata": {
      "needs_background": "light"
     },
     "output_type": "display_data"
    }
   ],
   "source": [
    "fig7 = plt.figure(figsize=(16,8))\n",
    "fig7.add_subplot(1, 2, 1)\n",
    "Inv_UE[2016].plot.hist(bins=10,title='Histograma investimentos UE - 2016')\n",
    "plt.xlabel=('frequencia')\n",
    "plt.ylabel=('% de investimentos ')\n",
    "\n",
    "\n",
    "\n",
    "fig7.add_subplot(1, 2, 2)\n",
    "Inv_UE[2017].plot.hist(bins=10,title='Histograma investimentos UE - 2017')\n",
    "plt.xlabel=('frequencia')\n",
    "plt.ylabel=('% de investimentos ')\n"
   ]
  },
  {
   "cell_type": "markdown",
   "metadata": {},
   "source": [
    "Acima temos 2 Histogramas que analisam a frequência dos valores de investimento dos países da União Europeia nos anos de 2016 e 2017\n",
    "A intenção dessa comparação foi verificar o comportamento dos histogramas nos 2 anos.\n",
    "O resultado analisado foi o seguinte:\n",
    "O histograma de 2016 apresenta um comportamento de simetria para a direita, pois a mediana é menor que a media: 20,15 de mediana < 20,72 de media\n",
    "Enquanto o histograma de 2017 apresentou um comportamento de simetria para a direita, pois a mediana é menor que a media:21 de mediana < 21,05 de média\n",
    "\n",
    "A conclusão dessa analise é que houve um leve crescimento nos investimentos dos paises da União Europeia entre estes 2 anos."
   ]
  },
  {
   "cell_type": "code",
   "execution_count": 161,
   "metadata": {},
   "outputs": [
    {
     "data": {
      "image/png": "[encoded data removed]",
      "text/plain": [
       "<Figure size 1152x576 with 2 Axes>"
      ]
     },
     "metadata": {
      "needs_background": "light"
     },
     "output_type": "display_data"
    }
   ],
   "source": [
    "fig8 = plt.figure(figsize=(16,8))\n",
    "fig8.add_subplot(1, 2, 1)\n",
    "Inv_N_UE[2016].plot.hist(bins=10,title='Histograma investimentos nao UE - 2016')\n",
    "plt.xlabel=('frequencia')\n",
    "\n",
    "\n",
    "\n",
    "fig8.add_subplot(1, 2, 2)\n",
    "Inv_N_UE[2017].plot.hist(bins=10,title='Histograma investimentos nao UE - 2017')\n",
    "plt.xlabel=('frequencia')\n"
   ]
  },
  {
   "cell_type": "markdown",
   "metadata": {},
   "source": [
    "Acima temos 2 Histogramas que analisam a frequência dos valores de investimento dos países Europeus que nao pertencem a União Europeia nos anos de 2016 e 2017\n",
    "A intenção dessa comparação foi verificar o comportamento dos histogramas nos 2 anos.\n",
    "O resultado analisado foi o seguinte:\n",
    "O histograma de 2016 apresenta um comportamento de simetria para a direita, pois a mediana é menor que a media: 23,1 de mediana < 23,9 de media\n",
    "Enquanto o histograma de 2017 apresentou um comportamento de simetria para a direita, pois a mediana é menor que a media:23,9 de mediana < 24,9 de média\n",
    "\n",
    "A conclusão dessa analise é que houve um leve crescimento nos investimentos dos paises Europeus não pertencentes a União Europeia entre estes 2 anos."
   ]
  },
  {
   "cell_type": "code",
   "execution_count": 162,
   "metadata": {},
   "outputs": [],
   "source": [
    "Gdp['UE']='0'"
   ]
  },
  {
   "cell_type": "code",
   "execution_count": 163,
   "metadata": {},
   "outputs": [],
   "source": [
    "Gdp.loc[('Austria','Belgium','Bulgaria','Croatia','Cyprus','Czech Republic','Denmark','Finland','France','Germany','Greece','Hungary','Ireland','Italy','Luxembourg','Malta','Netherlands','Poland','Portugal','Romania','Slovak Republic','Slovenia','Spain','Sweden','United Kingdom') ,'UE']='1' "
   ]
  },
  {
   "cell_type": "code",
   "execution_count": 164,
   "metadata": {},
   "outputs": [],
   "source": [
    "Gdp.loc[('Albania','Belarus','Bosnia and Herzegovina','Iceland','Moldova','Montenegro','Norway','Russia','Serbia','Switzerland','Turkey'),'UE']='2'  "
   ]
  },
  {
   "cell_type": "code",
   "execution_count": 165,
   "metadata": {},
   "outputs": [],
   "source": [
    "Gdp_UE=Gdp.loc[Gdp.UE=='1']\n",
    "Gdp_N_UE=Gdp.loc[Inflacao.UE=='2']"
   ]
  },
  {
   "cell_type": "code",
   "execution_count": 166,
   "metadata": {},
   "outputs": [],
   "source": [
    "Gdp_dados_UE=Gdp_UE.loc[:,[2016,2017]]\n",
    "Gdp_dados_N_UE=Gdp_N_UE.loc[:,[2016,2017]]"
   ]
  },
  {
   "cell_type": "code",
   "execution_count": 167,
   "metadata": {},
   "outputs": [],
   "source": [
    "Gdp_media_UE = Gdp_dados_UE.mean()\n",
    "Gdp_Mediana_UE=Gdp_dados_UE.median()\n",
    "Gdp_media_N_UE =Gdp_dados_N_UE.mean()\n",
    "Gdp_Mediana_N_UE=Gdp_dados_N_UE.median()"
   ]
  },
  {
   "cell_type": "code",
   "execution_count": 168,
   "metadata": {},
   "outputs": [
    {
     "data": {
      "text/plain": [
       "<matplotlib.axes._subplots.AxesSubplot at 0x120e4b358>"
      ]
     },
     "execution_count": 168,
     "metadata": {},
     "output_type": "execute_result"
    },
    {
     "data": {
      "image/png": "[encoded data removed]",
      "text/plain": [
       "<Figure size 576x576 with 2 Axes>"
      ]
     },
     "metadata": {
      "needs_background": "light"
     },
     "output_type": "display_data"
    }
   ],
   "source": [
    "fig9 = plt.figure(figsize=(8,8))\n",
    "fig9.add_subplot(1, 2, 1)\n",
    "Inv_media_UE.plot(kind=\"bar\",title=\"Gdp UE (Média x Anos)\")\n",
    "\n",
    "\n",
    "fig9.add_subplot(1, 2, 2)\n",
    "Inv_media_N_UE.plot(kind=\"bar\",title=\"Gdp nao UE (Média x Anos)\")\n",
    "\n"
   ]
  },
  {
   "cell_type": "code",
   "execution_count": 169,
   "metadata": {},
   "outputs": [
    {
     "name": "stdout",
     "output_type": "stream",
     "text": [
      "Acima temos 2 graficos que comparam os PIBs médios de 2016 e 2017 entre os países europeus pertencentes a União Europeia países e os europeus sem afiliação com a União Europeia\n",
      "\n",
      "A minha Intenção com essa análise foi observar e comparar o crescimento médio dos PIBs  entre os países pertencentes e não pertencentes a Organização\n",
      "\n",
      "O resultado analisado foi o seguinte:\n",
      "Os Países da União Europeia apresentaram um crescimento de 2.2343493690428873 % nestes anos\n",
      "\n",
      "Os Países Europeus que não fazem parte da União Europeia apresentaram um crescimento de 1.3326910725754648 %nestes anos\n",
      "\n",
      "portanto pode-se concluir que os paises pertencentes a União Europeia apresentaram em média um crescimento maior que os demais países \n"
     ]
    }
   ],
   "source": [
    "print('Acima temos 2 graficos que comparam os PIBs médios de 2016 e 2017 entre os países europeus pertencentes a União Europeia países e os europeus sem afiliação com a União Europeia') \n",
    "print()\n",
    "print('A minha Intenção com essa análise foi observar e comparar o crescimento médio dos PIBs  entre os países pertencentes e não pertencentes a Organização')\n",
    "print()      \n",
    "print('O resultado analisado foi o seguinte:')\n",
    "print('Os Países da União Europeia apresentaram um crescimento de',((Gdp_media_UE[2016]/Gdp_media_UE[2017])-1)*-1*100,'% nestes anos' )\n",
    "print()\n",
    "print('Os Países Europeus que não fazem parte da União Europeia apresentaram um crescimento de',((Gdp_media_N_UE[2016]/Gdp_media_N_UE[2017])-1)*-1*100,'%nestes anos')\n",
    "print()\n",
    "print('portanto pode-se concluir que os paises pertencentes a União Europeia apresentaram em média um crescimento maior que os demais países ' )"
   ]
  },
  {
   "cell_type": "code",
   "execution_count": 170,
   "metadata": {},
   "outputs": [
    {
     "data": {
      "text/plain": [
       "<matplotlib.axes._subplots.AxesSubplot at 0x1211b6a90>"
      ]
     },
     "execution_count": 170,
     "metadata": {},
     "output_type": "execute_result"
    },
    {
     "data": {
      "image/png": "[encoded data removed]",
      "text/plain": [
       "<Figure size 576x576 with 2 Axes>"
      ]
     },
     "metadata": {
      "needs_background": "light"
     },
     "output_type": "display_data"
    }
   ],
   "source": [
    "fig10 = plt.figure(figsize=(8,8))\n",
    "fig10.add_subplot(1, 2, 1)\n",
    "Gdp_Mediana_UE.plot(kind=\"bar\",title=\"Gdp UE (Mediana x Anos)\")\n",
    "\n",
    "\n",
    "\n",
    "fig10.add_subplot(1, 2, 2)\n",
    "Gdp_Mediana_N_UE.plot(kind=\"bar\",title=\"Gdp nao UE (Mediana x Anos)\")\n",
    "\n",
    "\n"
   ]
  },
  {
   "cell_type": "code",
   "execution_count": 171,
   "metadata": {},
   "outputs": [
    {
     "name": "stdout",
     "output_type": "stream",
     "text": [
      "Acima temos 2 graficos que comparam os PIBs Medianos de 2016 e 2017 entre os países europeus pertencentes a União Europeia países e os europeus sem afiliação com a União Europeia\n",
      "\n",
      "A minha Intenção com essa análise foi observar e comparar o crescimento dos PIBs medianos entre os países pertencentes e não pertencentes a Organização\n",
      "\n",
      "O resultado analisado foi o seguinte:\n",
      "Os Países da União Europeia apresentaram um crescimento de 2.777777777777779 %\n",
      "\n",
      "Os Países Europeus que não fazem parte da União Europeia apresentaram um crescimento de 0.8771929824561431 %\n",
      "\n",
      "portanto pode-se concluir que os paises pertencentes a União Europeia apresentaram em média um crescimento no PIB mediano muito maior que os demais países europeus \n"
     ]
    }
   ],
   "source": [
    "print('Acima temos 2 graficos que comparam os PIBs Medianos de 2016 e 2017 entre os países europeus pertencentes a União Europeia países e os europeus sem afiliação com a União Europeia') \n",
    "print()\n",
    "print('A minha Intenção com essa análise foi observar e comparar o crescimento dos PIBs medianos entre os países pertencentes e não pertencentes a Organização')\n",
    "print()      \n",
    "print('O resultado analisado foi o seguinte:')\n",
    "print('Os Países da União Europeia apresentaram um crescimento de',((Gdp_Mediana_UE[2016]/Gdp_Mediana_UE[2017])-1)*-1*100,'%' )\n",
    "print()\n",
    "print('Os Países Europeus que não fazem parte da União Europeia apresentaram um crescimento de',((Gdp_Mediana_N_UE[2016]/Gdp_Mediana_N_UE[2017])-1)*-1*100,'%' )\n",
    "print()\n",
    "print('portanto pode-se concluir que os paises pertencentes a União Europeia apresentaram em média um crescimento no PIB mediano muito maior que os demais países europeus ' )"
   ]
  },
  {
   "cell_type": "code",
   "execution_count": 172,
   "metadata": {},
   "outputs": [
    {
     "data": {
      "text/plain": [
       "<matplotlib.axes._subplots.AxesSubplot at 0x12124b390>"
      ]
     },
     "execution_count": 172,
     "metadata": {},
     "output_type": "execute_result"
    },
    {
     "data": {
      "image/png": "[encoded data removed]",
      "text/plain": [
       "<Figure size 1152x576 with 2 Axes>"
      ]
     },
     "metadata": {
      "needs_background": "light"
     },
     "output_type": "display_data"
    }
   ],
   "source": [
    "fig11 = plt.figure(figsize=(16,8))\n",
    "fig11.add_subplot(1, 2, 1)\n",
    "Gdp_UE[2016].plot.hist(bins=10,title='Histograma Gdp UE - 2016')\n",
    "\n",
    "\n",
    "fig11.add_subplot(1, 2, 2)\n",
    "Gdp_UE[2017].plot.hist(bins=10,title='Histograma Gdp UE - 2017')"
   ]
  },
  {
   "cell_type": "markdown",
   "metadata": {},
   "source": [
    "Acima temos 2 Histogramas que analisam a frequência dos valores do PIB dos países da União Europeia nos anos de 2016 e 2017\n",
    "A intenção dessa comparação foi verificar o comportamento dos histogramas nos 2 anos.\n",
    "O resultado analisado foi o seguinte:\n",
    "O histograma de 2016 apresenta um comportamento de simetria para a direita, pois a mediana é menor que a media: 31500 de mediana < 36474 de media\n",
    "Enquanto o histograma de 2017 apresentou um comportamento de simetria para a direita, pois a mediana é menor que a media:32400 de mediana < 37308 de média\n",
    "\n",
    "A conclusão dessa analise é que houve um leve crescimento no PIB dos paises da União Europeia entre estes 2 anos."
   ]
  },
  {
   "cell_type": "code",
   "execution_count": 173,
   "metadata": {},
   "outputs": [
    {
     "data": {
      "text/plain": [
       "<matplotlib.axes._subplots.AxesSubplot at 0x121607128>"
      ]
     },
     "execution_count": 173,
     "metadata": {},
     "output_type": "execute_result"
    },
    {
     "data": {
      "image/png": "[encoded data removed]",
      "text/plain": [
       "<Figure size 1152x576 with 2 Axes>"
      ]
     },
     "metadata": {
      "needs_background": "light"
     },
     "output_type": "display_data"
    }
   ],
   "source": [
    "fig12 = plt.figure(figsize=(16,8))\n",
    "fig12.add_subplot(1, 2, 1)\n",
    "Gdp_N_UE[2016].plot.hist(bins=10,title='Histograma Gdp nao UE - 2016')\n",
    "\n",
    "\n",
    "\n",
    "fig12.add_subplot(1, 2, 2)\n",
    "Gdp_N_UE[2017].plot.hist(bins=10,title='Histograma Gdp nao UE - 2017')\n",
    "\n"
   ]
  },
  {
   "cell_type": "markdown",
   "metadata": {},
   "source": [
    "Acima temos 2 Histogramas que analisam a frequência dos valores dos PIBs dos países Europeus que nao pertencem a União Europeia nos anos de 2016 e 2017\n",
    "A intenção dessa comparação foi verificar o comportamento dos histogramas nos 2 anos.\n",
    "O resultado analisado foi o seguinte:\n",
    "O histograma de 2016 apresenta um comportamento de simetria para a direita, pois a mediana é menor que a media: 11300 de mediana < 28361.0 de media\n",
    "Enquanto o histograma de 2017 apresentou um comportamento de simetria para a direita, pois a mediana é menor que a media:11400 de mediana < 28744 de média\n",
    "\n",
    "A conclusão dessa analise é que houve um leve crescimento no PIB dos paises Europeus não pertencentes a União Europeia entre estes 2 anos."
   ]
  },
  {
   "cell_type": "code",
   "execution_count": 175,
   "metadata": {},
   "outputs": [],
   "source": [
    "Join1 = Inf_UE.join(Inv_UE, how='inner', lsuffix='_Inflação ', rsuffix='_investimentos')"
   ]
  },
  {
   "cell_type": "code",
   "execution_count": 176,
   "metadata": {},
   "outputs": [
    {
     "data": {
      "text/html": [
       "<div>\n",
       "<style scoped>\n",
       "    .dataframe tbody tr th:only-of-type {\n",
       "        vertical-align: middle;\n",
       "    }\n",
       "\n",
       "    .dataframe tbody tr th {\n",
       "        vertical-align: top;\n",
       "    }\n",
       "\n",
       "    .dataframe thead th {\n",
       "        text-align: right;\n",
       "    }\n",
       "</style>\n",
       "<table border=\"1\" class=\"dataframe\">\n",
       "  <thead>\n",
       "    <tr style=\"text-align: right;\">\n",
       "      <th></th>\n",
       "      <th>2016_Inflação</th>\n",
       "      <th>2017_Inflação</th>\n",
       "      <th>UE_Inflação</th>\n",
       "      <th>2016_investimentos</th>\n",
       "      <th>2017_investimentos</th>\n",
       "      <th>UE_investimentos</th>\n",
       "      <th>2016</th>\n",
       "      <th>2017</th>\n",
       "      <th>UE</th>\n",
       "    </tr>\n",
       "    <tr>\n",
       "      <th>country</th>\n",
       "      <th></th>\n",
       "      <th></th>\n",
       "      <th></th>\n",
       "      <th></th>\n",
       "      <th></th>\n",
       "      <th></th>\n",
       "      <th></th>\n",
       "      <th></th>\n",
       "      <th></th>\n",
       "    </tr>\n",
       "  </thead>\n",
       "  <tbody>\n",
       "    <tr>\n",
       "      <th>Austria</th>\n",
       "      <td>1.0900</td>\n",
       "      <td>1.560</td>\n",
       "      <td>1</td>\n",
       "      <td>24.1</td>\n",
       "      <td>25.1</td>\n",
       "      <td>1</td>\n",
       "      <td>48100.0</td>\n",
       "      <td>49100.0</td>\n",
       "      <td>1</td>\n",
       "    </tr>\n",
       "    <tr>\n",
       "      <th>Belgium</th>\n",
       "      <td>1.5800</td>\n",
       "      <td>1.680</td>\n",
       "      <td>1</td>\n",
       "      <td>24.0</td>\n",
       "      <td>24.6</td>\n",
       "      <td>1</td>\n",
       "      <td>45500.0</td>\n",
       "      <td>46100.0</td>\n",
       "      <td>1</td>\n",
       "    </tr>\n",
       "    <tr>\n",
       "      <th>Bulgaria</th>\n",
       "      <td>2.2500</td>\n",
       "      <td>1.180</td>\n",
       "      <td>1</td>\n",
       "      <td>19.1</td>\n",
       "      <td>20.9</td>\n",
       "      <td>1</td>\n",
       "      <td>7970.0</td>\n",
       "      <td>8310.0</td>\n",
       "      <td>1</td>\n",
       "    </tr>\n",
       "    <tr>\n",
       "      <th>Croatia</th>\n",
       "      <td>-0.0843</td>\n",
       "      <td>1.170</td>\n",
       "      <td>1</td>\n",
       "      <td>20.2</td>\n",
       "      <td>20.5</td>\n",
       "      <td>1</td>\n",
       "      <td>14600.0</td>\n",
       "      <td>15200.0</td>\n",
       "      <td>1</td>\n",
       "    </tr>\n",
       "    <tr>\n",
       "      <th>Cyprus</th>\n",
       "      <td>-0.6840</td>\n",
       "      <td>1.520</td>\n",
       "      <td>1</td>\n",
       "      <td>16.8</td>\n",
       "      <td>20.4</td>\n",
       "      <td>1</td>\n",
       "      <td>28400.0</td>\n",
       "      <td>29400.0</td>\n",
       "      <td>1</td>\n",
       "    </tr>\n",
       "    <tr>\n",
       "      <th>Czech Republic</th>\n",
       "      <td>1.2400</td>\n",
       "      <td>1.300</td>\n",
       "      <td>1</td>\n",
       "      <td>26.3</td>\n",
       "      <td>26.3</td>\n",
       "      <td>1</td>\n",
       "      <td>21900.0</td>\n",
       "      <td>22800.0</td>\n",
       "      <td>1</td>\n",
       "    </tr>\n",
       "    <tr>\n",
       "      <th>Denmark</th>\n",
       "      <td>-0.0464</td>\n",
       "      <td>1.560</td>\n",
       "      <td>1</td>\n",
       "      <td>21.0</td>\n",
       "      <td>21.0</td>\n",
       "      <td>1</td>\n",
       "      <td>60700.0</td>\n",
       "      <td>61600.0</td>\n",
       "      <td>1</td>\n",
       "    </tr>\n",
       "    <tr>\n",
       "      <th>Estonia</th>\n",
       "      <td>1.5900</td>\n",
       "      <td>3.980</td>\n",
       "      <td>1</td>\n",
       "      <td>24.2</td>\n",
       "      <td>25.4</td>\n",
       "      <td>1</td>\n",
       "      <td>NaN</td>\n",
       "      <td>NaN</td>\n",
       "      <td>NaN</td>\n",
       "    </tr>\n",
       "    <tr>\n",
       "      <th>Finland</th>\n",
       "      <td>0.7910</td>\n",
       "      <td>0.932</td>\n",
       "      <td>1</td>\n",
       "      <td>21.9</td>\n",
       "      <td>22.8</td>\n",
       "      <td>1</td>\n",
       "      <td>46000.0</td>\n",
       "      <td>47100.0</td>\n",
       "      <td>1</td>\n",
       "    </tr>\n",
       "    <tr>\n",
       "      <th>France</th>\n",
       "      <td>0.1810</td>\n",
       "      <td>0.996</td>\n",
       "      <td>1</td>\n",
       "      <td>22.7</td>\n",
       "      <td>23.5</td>\n",
       "      <td>1</td>\n",
       "      <td>42000.0</td>\n",
       "      <td>42600.0</td>\n",
       "      <td>1</td>\n",
       "    </tr>\n",
       "    <tr>\n",
       "      <th>Germany</th>\n",
       "      <td>1.3300</td>\n",
       "      <td>1.540</td>\n",
       "      <td>1</td>\n",
       "      <td>19.2</td>\n",
       "      <td>19.8</td>\n",
       "      <td>1</td>\n",
       "      <td>45900.0</td>\n",
       "      <td>46700.0</td>\n",
       "      <td>1</td>\n",
       "    </tr>\n",
       "    <tr>\n",
       "      <th>Greece</th>\n",
       "      <td>-0.9560</td>\n",
       "      <td>0.669</td>\n",
       "      <td>1</td>\n",
       "      <td>10.6</td>\n",
       "      <td>11.7</td>\n",
       "      <td>1</td>\n",
       "      <td>22700.0</td>\n",
       "      <td>23000.0</td>\n",
       "      <td>1</td>\n",
       "    </tr>\n",
       "    <tr>\n",
       "      <th>Hungary</th>\n",
       "      <td>0.9590</td>\n",
       "      <td>3.670</td>\n",
       "      <td>1</td>\n",
       "      <td>19.8</td>\n",
       "      <td>22.5</td>\n",
       "      <td>1</td>\n",
       "      <td>15000.0</td>\n",
       "      <td>15600.0</td>\n",
       "      <td>1</td>\n",
       "    </tr>\n",
       "    <tr>\n",
       "      <th>Ireland</th>\n",
       "      <td>0.0207</td>\n",
       "      <td>-0.308</td>\n",
       "      <td>1</td>\n",
       "      <td>32.7</td>\n",
       "      <td>24.2</td>\n",
       "      <td>1</td>\n",
       "      <td>69900.0</td>\n",
       "      <td>74400.0</td>\n",
       "      <td>1</td>\n",
       "    </tr>\n",
       "    <tr>\n",
       "      <th>Italy</th>\n",
       "      <td>0.8480</td>\n",
       "      <td>0.629</td>\n",
       "      <td>1</td>\n",
       "      <td>17.1</td>\n",
       "      <td>17.2</td>\n",
       "      <td>1</td>\n",
       "      <td>34300.0</td>\n",
       "      <td>34900.0</td>\n",
       "      <td>1</td>\n",
       "    </tr>\n",
       "    <tr>\n",
       "      <th>Latvia</th>\n",
       "      <td>0.2740</td>\n",
       "      <td>3.060</td>\n",
       "      <td>1</td>\n",
       "      <td>19.6</td>\n",
       "      <td>21.5</td>\n",
       "      <td>1</td>\n",
       "      <td>NaN</td>\n",
       "      <td>NaN</td>\n",
       "      <td>NaN</td>\n",
       "    </tr>\n",
       "    <tr>\n",
       "      <th>Lithuania</th>\n",
       "      <td>0.9510</td>\n",
       "      <td>4.250</td>\n",
       "      <td>1</td>\n",
       "      <td>17.2</td>\n",
       "      <td>17.5</td>\n",
       "      <td>1</td>\n",
       "      <td>NaN</td>\n",
       "      <td>NaN</td>\n",
       "      <td>NaN</td>\n",
       "    </tr>\n",
       "    <tr>\n",
       "      <th>Luxembourg</th>\n",
       "      <td>-1.3100</td>\n",
       "      <td>2.130</td>\n",
       "      <td>1</td>\n",
       "      <td>17.9</td>\n",
       "      <td>17.3</td>\n",
       "      <td>1</td>\n",
       "      <td>109000.0</td>\n",
       "      <td>108000.0</td>\n",
       "      <td>1</td>\n",
       "    </tr>\n",
       "    <tr>\n",
       "      <th>Malta</th>\n",
       "      <td>1.6300</td>\n",
       "      <td>2.530</td>\n",
       "      <td>1</td>\n",
       "      <td>23.1</td>\n",
       "      <td>NaN</td>\n",
       "      <td>1</td>\n",
       "      <td>26100.0</td>\n",
       "      <td>27100.0</td>\n",
       "      <td>1</td>\n",
       "    </tr>\n",
       "    <tr>\n",
       "      <th>Netherlands</th>\n",
       "      <td>0.5840</td>\n",
       "      <td>1.150</td>\n",
       "      <td>1</td>\n",
       "      <td>20.1</td>\n",
       "      <td>20.2</td>\n",
       "      <td>1</td>\n",
       "      <td>52300.0</td>\n",
       "      <td>53600.0</td>\n",
       "      <td>1</td>\n",
       "    </tr>\n",
       "    <tr>\n",
       "      <th>Poland</th>\n",
       "      <td>0.4160</td>\n",
       "      <td>2.010</td>\n",
       "      <td>1</td>\n",
       "      <td>19.6</td>\n",
       "      <td>20.0</td>\n",
       "      <td>1</td>\n",
       "      <td>15100.0</td>\n",
       "      <td>15800.0</td>\n",
       "      <td>1</td>\n",
       "    </tr>\n",
       "    <tr>\n",
       "      <th>Portugal</th>\n",
       "      <td>1.5200</td>\n",
       "      <td>1.370</td>\n",
       "      <td>1</td>\n",
       "      <td>15.5</td>\n",
       "      <td>16.3</td>\n",
       "      <td>1</td>\n",
       "      <td>22400.0</td>\n",
       "      <td>23100.0</td>\n",
       "      <td>1</td>\n",
       "    </tr>\n",
       "    <tr>\n",
       "      <th>Romania</th>\n",
       "      <td>2.0500</td>\n",
       "      <td>5.280</td>\n",
       "      <td>1</td>\n",
       "      <td>24.0</td>\n",
       "      <td>24.4</td>\n",
       "      <td>1</td>\n",
       "      <td>10200.0</td>\n",
       "      <td>10900.0</td>\n",
       "      <td>1</td>\n",
       "    </tr>\n",
       "    <tr>\n",
       "      <th>Slovak Republic</th>\n",
       "      <td>-0.4480</td>\n",
       "      <td>1.280</td>\n",
       "      <td>1</td>\n",
       "      <td>22.6</td>\n",
       "      <td>22.4</td>\n",
       "      <td>1</td>\n",
       "      <td>19300.0</td>\n",
       "      <td>19900.0</td>\n",
       "      <td>1</td>\n",
       "    </tr>\n",
       "    <tr>\n",
       "      <th>Slovenia</th>\n",
       "      <td>0.8960</td>\n",
       "      <td>1.980</td>\n",
       "      <td>1</td>\n",
       "      <td>18.7</td>\n",
       "      <td>19.3</td>\n",
       "      <td>1</td>\n",
       "      <td>24500.0</td>\n",
       "      <td>25700.0</td>\n",
       "      <td>1</td>\n",
       "    </tr>\n",
       "    <tr>\n",
       "      <th>Spain</th>\n",
       "      <td>0.2830</td>\n",
       "      <td>0.955</td>\n",
       "      <td>1</td>\n",
       "      <td>20.5</td>\n",
       "      <td>21.1</td>\n",
       "      <td>1</td>\n",
       "      <td>31500.0</td>\n",
       "      <td>32400.0</td>\n",
       "      <td>1</td>\n",
       "    </tr>\n",
       "    <tr>\n",
       "      <th>Sweden</th>\n",
       "      <td>1.5900</td>\n",
       "      <td>2.090</td>\n",
       "      <td>1</td>\n",
       "      <td>24.7</td>\n",
       "      <td>25.7</td>\n",
       "      <td>1</td>\n",
       "      <td>56500.0</td>\n",
       "      <td>56900.0</td>\n",
       "      <td>1</td>\n",
       "    </tr>\n",
       "    <tr>\n",
       "      <th>United Kingdom</th>\n",
       "      <td>1.9700</td>\n",
       "      <td>1.960</td>\n",
       "      <td>1</td>\n",
       "      <td>17.0</td>\n",
       "      <td>17.0</td>\n",
       "      <td>1</td>\n",
       "      <td>42000.0</td>\n",
       "      <td>42500.0</td>\n",
       "      <td>1</td>\n",
       "    </tr>\n",
       "  </tbody>\n",
       "</table>\n",
       "</div>"
      ],
      "text/plain": [
       "                 2016_Inflação   2017_Inflação  UE_Inflação   \\\n",
       "country                                                        \n",
       "Austria                  1.0900           1.560            1   \n",
       "Belgium                  1.5800           1.680            1   \n",
       "Bulgaria                 2.2500           1.180            1   \n",
       "Croatia                 -0.0843           1.170            1   \n",
       "Cyprus                  -0.6840           1.520            1   \n",
       "Czech Republic           1.2400           1.300            1   \n",
       "Denmark                 -0.0464           1.560            1   \n",
       "Estonia                  1.5900           3.980            1   \n",
       "Finland                  0.7910           0.932            1   \n",
       "France                   0.1810           0.996            1   \n",
       "Germany                  1.3300           1.540            1   \n",
       "Greece                  -0.9560           0.669            1   \n",
       "Hungary                  0.9590           3.670            1   \n",
       "Ireland                  0.0207          -0.308            1   \n",
       "Italy                    0.8480           0.629            1   \n",
       "Latvia                   0.2740           3.060            1   \n",
       "Lithuania                0.9510           4.250            1   \n",
       "Luxembourg              -1.3100           2.130            1   \n",
       "Malta                    1.6300           2.530            1   \n",
       "Netherlands              0.5840           1.150            1   \n",
       "Poland                   0.4160           2.010            1   \n",
       "Portugal                 1.5200           1.370            1   \n",
       "Romania                  2.0500           5.280            1   \n",
       "Slovak Republic         -0.4480           1.280            1   \n",
       "Slovenia                 0.8960           1.980            1   \n",
       "Spain                    0.2830           0.955            1   \n",
       "Sweden                   1.5900           2.090            1   \n",
       "United Kingdom           1.9700           1.960            1   \n",
       "\n",
       "                 2016_investimentos  2017_investimentos UE_investimentos  \\\n",
       "country                                                                    \n",
       "Austria                        24.1                25.1                1   \n",
       "Belgium                        24.0                24.6                1   \n",
       "Bulgaria                       19.1                20.9                1   \n",
       "Croatia                        20.2                20.5                1   \n",
       "Cyprus                         16.8                20.4                1   \n",
       "Czech Republic                 26.3                26.3                1   \n",
       "Denmark                        21.0                21.0                1   \n",
       "Estonia                        24.2                25.4                1   \n",
       "Finland                        21.9                22.8                1   \n",
       "France                         22.7                23.5                1   \n",
       "Germany                        19.2                19.8                1   \n",
       "Greece                         10.6                11.7                1   \n",
       "Hungary                        19.8                22.5                1   \n",
       "Ireland                        32.7                24.2                1   \n",
       "Italy                          17.1                17.2                1   \n",
       "Latvia                         19.6                21.5                1   \n",
       "Lithuania                      17.2                17.5                1   \n",
       "Luxembourg                     17.9                17.3                1   \n",
       "Malta                          23.1                 NaN                1   \n",
       "Netherlands                    20.1                20.2                1   \n",
       "Poland                         19.6                20.0                1   \n",
       "Portugal                       15.5                16.3                1   \n",
       "Romania                        24.0                24.4                1   \n",
       "Slovak Republic                22.6                22.4                1   \n",
       "Slovenia                       18.7                19.3                1   \n",
       "Spain                          20.5                21.1                1   \n",
       "Sweden                         24.7                25.7                1   \n",
       "United Kingdom                 17.0                17.0                1   \n",
       "\n",
       "                     2016      2017   UE  \n",
       "country                                   \n",
       "Austria           48100.0   49100.0    1  \n",
       "Belgium           45500.0   46100.0    1  \n",
       "Bulgaria           7970.0    8310.0    1  \n",
       "Croatia           14600.0   15200.0    1  \n",
       "Cyprus            28400.0   29400.0    1  \n",
       "Czech Republic    21900.0   22800.0    1  \n",
       "Denmark           60700.0   61600.0    1  \n",
       "Estonia               NaN       NaN  NaN  \n",
       "Finland           46000.0   47100.0    1  \n",
       "France            42000.0   42600.0    1  \n",
       "Germany           45900.0   46700.0    1  \n",
       "Greece            22700.0   23000.0    1  \n",
       "Hungary           15000.0   15600.0    1  \n",
       "Ireland           69900.0   74400.0    1  \n",
       "Italy             34300.0   34900.0    1  \n",
       "Latvia                NaN       NaN  NaN  \n",
       "Lithuania             NaN       NaN  NaN  \n",
       "Luxembourg       109000.0  108000.0    1  \n",
       "Malta             26100.0   27100.0    1  \n",
       "Netherlands       52300.0   53600.0    1  \n",
       "Poland            15100.0   15800.0    1  \n",
       "Portugal          22400.0   23100.0    1  \n",
       "Romania           10200.0   10900.0    1  \n",
       "Slovak Republic   19300.0   19900.0    1  \n",
       "Slovenia          24500.0   25700.0    1  \n",
       "Spain             31500.0   32400.0    1  \n",
       "Sweden            56500.0   56900.0    1  \n",
       "United Kingdom    42000.0   42500.0    1  "
      ]
     },
     "execution_count": 176,
     "metadata": {},
     "output_type": "execute_result"
    }
   ],
   "source": [
    "Join_UE=Join1.join(Gdp_UE)\n",
    "Join_UE"
   ]
  },
  {
   "cell_type": "markdown",
   "metadata": {},
   "source": [
    "Acima está a tabela dos paises da União Europeia com todos os indicadores estudados nesse projeto"
   ]
  },
  {
   "cell_type": "code",
   "execution_count": 177,
   "metadata": {},
   "outputs": [],
   "source": [
    "Join2 = Inf_N_UE.join(Inv_N_UE, how='inner', lsuffix='_Inflação ', rsuffix='_investimentos')"
   ]
  },
  {
   "cell_type": "code",
   "execution_count": 178,
   "metadata": {},
   "outputs": [
    {
     "data": {
      "text/html": [
       "<div>\n",
       "<style scoped>\n",
       "    .dataframe tbody tr th:only-of-type {\n",
       "        vertical-align: middle;\n",
       "    }\n",
       "\n",
       "    .dataframe tbody tr th {\n",
       "        vertical-align: top;\n",
       "    }\n",
       "\n",
       "    .dataframe thead th {\n",
       "        text-align: right;\n",
       "    }\n",
       "</style>\n",
       "<table border=\"1\" class=\"dataframe\">\n",
       "  <thead>\n",
       "    <tr style=\"text-align: right;\">\n",
       "      <th></th>\n",
       "      <th>2016_Inflação</th>\n",
       "      <th>2017_Inflação</th>\n",
       "      <th>UE_Inflação</th>\n",
       "      <th>2016_investimentos</th>\n",
       "      <th>2017_investimentos</th>\n",
       "      <th>UE_investimentos</th>\n",
       "      <th>2016</th>\n",
       "      <th>2017</th>\n",
       "      <th>UE</th>\n",
       "    </tr>\n",
       "    <tr>\n",
       "      <th>country</th>\n",
       "      <th></th>\n",
       "      <th></th>\n",
       "      <th></th>\n",
       "      <th></th>\n",
       "      <th></th>\n",
       "      <th></th>\n",
       "      <th></th>\n",
       "      <th></th>\n",
       "      <th></th>\n",
       "    </tr>\n",
       "  </thead>\n",
       "  <tbody>\n",
       "    <tr>\n",
       "      <th>Albania</th>\n",
       "      <td>-0.481</td>\n",
       "      <td>1.370</td>\n",
       "      <td>2</td>\n",
       "      <td>24.8</td>\n",
       "      <td>25.2</td>\n",
       "      <td>2</td>\n",
       "      <td>4680.0</td>\n",
       "      <td>4870.0</td>\n",
       "      <td>2</td>\n",
       "    </tr>\n",
       "    <tr>\n",
       "      <th>Belarus</th>\n",
       "      <td>8.340</td>\n",
       "      <td>8.180</td>\n",
       "      <td>2</td>\n",
       "      <td>26.5</td>\n",
       "      <td>26.2</td>\n",
       "      <td>2</td>\n",
       "      <td>6230.0</td>\n",
       "      <td>6380.0</td>\n",
       "      <td>2</td>\n",
       "    </tr>\n",
       "    <tr>\n",
       "      <th>Bosnia and Herzegovina</th>\n",
       "      <td>1.410</td>\n",
       "      <td>2.350</td>\n",
       "      <td>2</td>\n",
       "      <td>19.6</td>\n",
       "      <td>20.5</td>\n",
       "      <td>2</td>\n",
       "      <td>5380.0</td>\n",
       "      <td>5560.0</td>\n",
       "      <td>2</td>\n",
       "    </tr>\n",
       "    <tr>\n",
       "      <th>Iceland</th>\n",
       "      <td>2.110</td>\n",
       "      <td>0.482</td>\n",
       "      <td>2</td>\n",
       "      <td>21.5</td>\n",
       "      <td>22.2</td>\n",
       "      <td>2</td>\n",
       "      <td>49000.0</td>\n",
       "      <td>49900.0</td>\n",
       "      <td>2</td>\n",
       "    </tr>\n",
       "    <tr>\n",
       "      <th>Moldova</th>\n",
       "      <td>5.710</td>\n",
       "      <td>6.280</td>\n",
       "      <td>2</td>\n",
       "      <td>22.3</td>\n",
       "      <td>23.3</td>\n",
       "      <td>2</td>\n",
       "      <td>2070.0</td>\n",
       "      <td>2170.0</td>\n",
       "      <td>2</td>\n",
       "    </tr>\n",
       "    <tr>\n",
       "      <th>Montenegro</th>\n",
       "      <td>5.100</td>\n",
       "      <td>2.720</td>\n",
       "      <td>2</td>\n",
       "      <td>26.1</td>\n",
       "      <td>29.3</td>\n",
       "      <td>2</td>\n",
       "      <td>7490.0</td>\n",
       "      <td>7810.0</td>\n",
       "      <td>2</td>\n",
       "    </tr>\n",
       "    <tr>\n",
       "      <th>Norway</th>\n",
       "      <td>-1.110</td>\n",
       "      <td>3.850</td>\n",
       "      <td>2</td>\n",
       "      <td>29.3</td>\n",
       "      <td>28.8</td>\n",
       "      <td>2</td>\n",
       "      <td>90300.0</td>\n",
       "      <td>91200.0</td>\n",
       "      <td>2</td>\n",
       "    </tr>\n",
       "    <tr>\n",
       "      <th>Russia</th>\n",
       "      <td>3.540</td>\n",
       "      <td>5.210</td>\n",
       "      <td>2</td>\n",
       "      <td>22.8</td>\n",
       "      <td>23.9</td>\n",
       "      <td>2</td>\n",
       "      <td>11300.0</td>\n",
       "      <td>11400.0</td>\n",
       "      <td>2</td>\n",
       "    </tr>\n",
       "    <tr>\n",
       "      <th>Serbia</th>\n",
       "      <td>2.530</td>\n",
       "      <td>2.840</td>\n",
       "      <td>2</td>\n",
       "      <td>19.1</td>\n",
       "      <td>21.0</td>\n",
       "      <td>2</td>\n",
       "      <td>5850.0</td>\n",
       "      <td>5990.0</td>\n",
       "      <td>2</td>\n",
       "    </tr>\n",
       "    <tr>\n",
       "      <th>Switzerland</th>\n",
       "      <td>-0.566</td>\n",
       "      <td>0.354</td>\n",
       "      <td>2</td>\n",
       "      <td>23.1</td>\n",
       "      <td>23.3</td>\n",
       "      <td>2</td>\n",
       "      <td>76700.0</td>\n",
       "      <td>76700.0</td>\n",
       "      <td>2</td>\n",
       "    </tr>\n",
       "    <tr>\n",
       "      <th>Turkey</th>\n",
       "      <td>8.100</td>\n",
       "      <td>10.800</td>\n",
       "      <td>2</td>\n",
       "      <td>28.2</td>\n",
       "      <td>30.9</td>\n",
       "      <td>2</td>\n",
       "      <td>14100.0</td>\n",
       "      <td>14900.0</td>\n",
       "      <td>2</td>\n",
       "    </tr>\n",
       "  </tbody>\n",
       "</table>\n",
       "</div>"
      ],
      "text/plain": [
       "                        2016_Inflação   2017_Inflação  UE_Inflação   \\\n",
       "country                                                               \n",
       "Albania                         -0.481           1.370            2   \n",
       "Belarus                          8.340           8.180            2   \n",
       "Bosnia and Herzegovina           1.410           2.350            2   \n",
       "Iceland                          2.110           0.482            2   \n",
       "Moldova                          5.710           6.280            2   \n",
       "Montenegro                       5.100           2.720            2   \n",
       "Norway                          -1.110           3.850            2   \n",
       "Russia                           3.540           5.210            2   \n",
       "Serbia                           2.530           2.840            2   \n",
       "Switzerland                     -0.566           0.354            2   \n",
       "Turkey                           8.100          10.800            2   \n",
       "\n",
       "                        2016_investimentos  2017_investimentos  \\\n",
       "country                                                          \n",
       "Albania                               24.8                25.2   \n",
       "Belarus                               26.5                26.2   \n",
       "Bosnia and Herzegovina                19.6                20.5   \n",
       "Iceland                               21.5                22.2   \n",
       "Moldova                               22.3                23.3   \n",
       "Montenegro                            26.1                29.3   \n",
       "Norway                                29.3                28.8   \n",
       "Russia                                22.8                23.9   \n",
       "Serbia                                19.1                21.0   \n",
       "Switzerland                           23.1                23.3   \n",
       "Turkey                                28.2                30.9   \n",
       "\n",
       "                       UE_investimentos     2016     2017 UE  \n",
       "country                                                       \n",
       "Albania                               2   4680.0   4870.0  2  \n",
       "Belarus                               2   6230.0   6380.0  2  \n",
       "Bosnia and Herzegovina                2   5380.0   5560.0  2  \n",
       "Iceland                               2  49000.0  49900.0  2  \n",
       "Moldova                               2   2070.0   2170.0  2  \n",
       "Montenegro                            2   7490.0   7810.0  2  \n",
       "Norway                                2  90300.0  91200.0  2  \n",
       "Russia                                2  11300.0  11400.0  2  \n",
       "Serbia                                2   5850.0   5990.0  2  \n",
       "Switzerland                           2  76700.0  76700.0  2  \n",
       "Turkey                                2  14100.0  14900.0  2  "
      ]
     },
     "execution_count": 178,
     "metadata": {},
     "output_type": "execute_result"
    }
   ],
   "source": [
    "Join_N_UE=Join2.join(Gdp_N_UE)\n",
    "Join_N_UE"
   ]
  },
  {
   "cell_type": "markdown",
   "metadata": {},
   "source": [
    "Acima está a tabela dos países europeus com todos os indicadores estudados nesse projeto"
   ]
  },
  {
   "cell_type": "markdown",
   "metadata": {},
   "source": [
    "## Conclusão"
   ]
  },
  {
   "cell_type": "markdown",
   "metadata": {},
   "source": [
    "A minha hipótese inicial se baseava na ideia de que a economia da europa, com as discussões do Brexit, se beneficiou.\n",
    "\n",
    "Após todas as analises feitas acima foi possivel chegar a uma conclusao de que a minha hipótese inicial está parcialmente correta, pois embora os investimentos e os PIBs per capita dos paises europeus terem aumentado, a inflação tambem aumentou. Tal feito ocorre possivelmente devido ao impacto negativo imediato da economia por uma incerteza econômica de uma mudança deste calibre.\n",
    "\n",
    "Em relação ao histograma da inflação da União Europeia é possivel concluir que existe uma migração evidente de alguns países para um valor muito maior, como mostra a mudança de simetria dos histogramas. Evidenciando um impacto anormal no seu crescimento \n",
    "\n",
    "Em relação ao histograma da inflação dos Países europeus não pertencentes a União Europeia é possível afirmar que houve um crescimento natural\n",
    "\n",
    "Em relação aos demais histogramas, é possível afirmar que houve um crescimento tanto nos investimentos quanto nos PIBs dos paises pertencentes a União Europeia e nos não pertencentes. \n",
    "\n",
    "Chegando a conclusão de que houve um impacto imediato negativo com o início das discussões do Brexit, porém é possível afirmar que o futuro à longo prazo da europa tende a ser possitivo "
   ]
  }
 ],
 "metadata": {
  "kernelspec": {
   "display_name": "Python 3",
   "language": "python",
   "name": "python3"
  },
  "language_info": {
   "codemirror_mode": {
    "name": "ipython",
    "version": 3
   },
   "file_extension": ".py",
   "mimetype": "text/x-python",
   "name": "python",
   "nbconvert_exporter": "python",
   "pygments_lexer": "ipython3",
   "version": "3.7.1"
  }
 },
 "nbformat": 4,
 "nbformat_minor": 2
}
